{
 "cells": [
  {
   "cell_type": "markdown",
   "metadata": {},
   "source": [
    "# Baseline Model for Diabetic Retinopathy Image Classification"
   ]
  },
  {
   "cell_type": "code",
   "execution_count": 1,
   "metadata": {},
   "outputs": [
    {
     "name": "stderr",
     "output_type": "stream",
     "text": [
      "2025-02-19 11:49:39.951053: E external/local_xla/xla/stream_executor/cuda/cuda_fft.cc:485] Unable to register cuFFT factory: Attempting to register factory for plugin cuFFT when one has already been registered\n",
      "2025-02-19 11:49:39.962213: E external/local_xla/xla/stream_executor/cuda/cuda_dnn.cc:8454] Unable to register cuDNN factory: Attempting to register factory for plugin cuDNN when one has already been registered\n",
      "2025-02-19 11:49:39.965602: E external/local_xla/xla/stream_executor/cuda/cuda_blas.cc:1452] Unable to register cuBLAS factory: Attempting to register factory for plugin cuBLAS when one has already been registered\n",
      "2025-02-19 11:49:39.975005: I tensorflow/core/platform/cpu_feature_guard.cc:210] This TensorFlow binary is optimized to use available CPU instructions in performance-critical operations.\n",
      "To enable the following instructions: AVX2 FMA, in other operations, rebuild TensorFlow with the appropriate compiler flags.\n",
      "2025-02-19 11:49:40.606240: W tensorflow/compiler/tf2tensorrt/utils/py_utils.cc:38] TF-TRT Warning: Could not find TensorRT\n"
     ]
    }
   ],
   "source": [
    "%load_ext autoreload\n",
    "%autoreload 2\n",
    "\n",
    "import torch\n",
    "import sys\n",
    "import joblib\n",
    "from os.path import join\n",
    "import pandas as pd\n",
    "\n",
    "fp_code_folder = \"../../\"\n",
    "fp_project_folder = join(fp_code_folder, \"../\")\n",
    "sys.path.append(fp_code_folder)\n",
    "\n",
    "fp_checkpoint_folder = join(fp_project_folder, \"checkpoints\")\n",
    "\n",
    "from src.configs.image_config import fp_data_dfs_file, col_info\n",
    "from src.preprocessing.pytorch_preprocessing import get_pytorch_split_dict, get_baseline_image_dl\n",
    "from src.filepath_manager import FilePath\n",
    "\n",
    "from src.models.resnet.resnet_model import ResNet18\n",
    "from src.models.resnet.resnet_trainer import train_resnet\n",
    "from src.models.resnet.resnet_evaluator import evaluate_resnet\n",
    "from src.pytorch_training.misc import set_seed_pytorch\n",
    "from src.models.resnet_bilateral.inference import get_pred_perf_df\n",
    "\n",
    "fp = FilePath(model_name=\"resnet_baseline\", fp_checkpoint_folder=fp_checkpoint_folder)\n",
    "\n",
    "seed_no = 2024\n",
    "\n",
    "batch_size = 64\n",
    "eval_batch_size = 64*4"
   ]
  },
  {
   "cell_type": "markdown",
   "metadata": {},
   "source": [
    "### Load Data"
   ]
  },
  {
   "cell_type": "code",
   "execution_count": 10,
   "metadata": {},
   "outputs": [],
   "source": [
    "data_dfs = joblib.load(fp_data_dfs_file)"
   ]
  },
  {
   "cell_type": "code",
   "execution_count": 11,
   "metadata": {},
   "outputs": [],
   "source": [
    "set_seed_pytorch(seed_no)\n",
    "data_dls = get_pytorch_split_dict(\n",
    "    data_dict=data_dfs, col_info=col_info, \n",
    "    batch_size=batch_size, eval_batch_size=eval_batch_size, shuffle_train=True,\n",
    "    dl_func=get_baseline_image_dl\n",
    ")"
   ]
  },
  {
   "cell_type": "markdown",
   "metadata": {},
   "source": [
    "## Train Model"
   ]
  },
  {
   "cell_type": "code",
   "execution_count": null,
   "metadata": {},
   "outputs": [],
   "source": [
    "resnet_model = ResNet18(num_classes=col_info[\"num_classes\"])\n",
    "resnet_history = train_resnet(\n",
    "    model=resnet_model, **data_dls, \n",
    "    fp_model=fp.fp_model_file, fp_history=fp.fp_history_file, # Where to store trained model and history of training\n",
    "    max_epochs=500, \n",
    "    lr=0.001, weight_decay=0.0001,  # Training parameters\n",
    "    patience=10, metric_to_monitor = \"acc\", maximise=True, # For early stopping\n",
    "    verbose=True,\n",
    "    seed = seed_no\n",
    ")"
   ]
  },
  {
   "cell_type": "markdown",
   "metadata": {},
   "source": [
    "## Evaluate Model"
   ]
  },
  {
   "cell_type": "code",
   "execution_count": 8,
   "metadata": {},
   "outputs": [],
   "source": [
    "resnet_model = torch.load(fp.fp_model_file)"
   ]
  },
  {
   "cell_type": "code",
   "execution_count": null,
   "metadata": {},
   "outputs": [
    {
     "data": {
      "application/vnd.jupyter.widget-view+json": {
       "model_id": "b5750918f00a423588b7b76ae4681cbf",
       "version_major": 2,
       "version_minor": 0
      },
      "text/plain": [
       "  0%|          | 0/28 [00:00<?, ?it/s]"
      ]
     },
     "metadata": {},
     "output_type": "display_data"
    }
   ],
   "source": [
    "pred_df, perf_df = evaluate_resnet(\n",
    "    model=resnet_model, col_info=col_info, dl=data_dls[\"test_dl\"], verbose=True\n",
    ")\n",
    "pred_df.to_csv(fp.fp_prediction_file)\n",
    "perf_df.to_csv(fp.fp_performance_file)"
   ]
  },
  {
   "cell_type": "code",
   "execution_count": 2,
   "metadata": {},
   "outputs": [
    {
     "data": {
      "text/html": [
       "<div>\n",
       "<style scoped>\n",
       "    .dataframe tbody tr th:only-of-type {\n",
       "        vertical-align: middle;\n",
       "    }\n",
       "\n",
       "    .dataframe tbody tr th {\n",
       "        vertical-align: top;\n",
       "    }\n",
       "\n",
       "    .dataframe thead th {\n",
       "        text-align: right;\n",
       "    }\n",
       "</style>\n",
       "<table border=\"1\" class=\"dataframe\">\n",
       "  <thead>\n",
       "    <tr style=\"text-align: right;\">\n",
       "      <th></th>\n",
       "      <th>Acc</th>\n",
       "      <th>Class 0 Acc</th>\n",
       "      <th>Class 1 Acc</th>\n",
       "      <th>Class 2 Acc</th>\n",
       "      <th>Class 3 Acc</th>\n",
       "      <th>Class 4 Acc</th>\n",
       "      <th>Average Class Acc</th>\n",
       "      <th>Acc W/O Class 0</th>\n",
       "    </tr>\n",
       "  </thead>\n",
       "  <tbody>\n",
       "    <tr>\n",
       "      <th>0</th>\n",
       "      <td>0.761877</td>\n",
       "      <td>0.979432</td>\n",
       "      <td>0.0</td>\n",
       "      <td>0.376786</td>\n",
       "      <td>0.280374</td>\n",
       "      <td>0.307692</td>\n",
       "      <td>0.388857</td>\n",
       "      <td>0.254319</td>\n",
       "    </tr>\n",
       "  </tbody>\n",
       "</table>\n",
       "</div>"
      ],
      "text/plain": [
       "        Acc  Class 0 Acc  Class 1 Acc  Class 2 Acc  Class 3 Acc  Class 4 Acc  \\\n",
       "0  0.761877     0.979432          0.0     0.376786     0.280374     0.307692   \n",
       "\n",
       "   Average Class Acc  Acc W/O Class 0  \n",
       "0           0.388857         0.254319  "
      ]
     },
     "execution_count": 2,
     "metadata": {},
     "output_type": "execute_result"
    }
   ],
   "source": [
    "pred_df = pd.read_csv(fp.fp_prediction_file)\n",
    "get_pred_perf_df(pred_df, col_info)"
   ]
  },
  {
   "cell_type": "code",
   "execution_count": 14,
   "metadata": {},
   "outputs": [
    {
     "data": {
      "text/html": [
       "<div>\n",
       "<style scoped>\n",
       "    .dataframe tbody tr th:only-of-type {\n",
       "        vertical-align: middle;\n",
       "    }\n",
       "\n",
       "    .dataframe tbody tr th {\n",
       "        vertical-align: top;\n",
       "    }\n",
       "\n",
       "    .dataframe thead th {\n",
       "        text-align: right;\n",
       "    }\n",
       "</style>\n",
       "<table border=\"1\" class=\"dataframe\">\n",
       "  <thead>\n",
       "    <tr style=\"text-align: right;\">\n",
       "      <th></th>\n",
       "      <th>Acc</th>\n",
       "      <th>Class 0 Acc</th>\n",
       "      <th>Class 1 Acc</th>\n",
       "      <th>Class 2 Acc</th>\n",
       "      <th>Class 3 Acc</th>\n",
       "      <th>Class 4 Acc</th>\n",
       "    </tr>\n",
       "  </thead>\n",
       "  <tbody>\n",
       "    <tr>\n",
       "      <th>0</th>\n",
       "      <td>0.761877</td>\n",
       "      <td>0.979432</td>\n",
       "      <td>0.0</td>\n",
       "      <td>0.376786</td>\n",
       "      <td>0.280374</td>\n",
       "      <td>0.307692</td>\n",
       "    </tr>\n",
       "  </tbody>\n",
       "</table>\n",
       "</div>"
      ],
      "text/plain": [
       "        Acc  Class 0 Acc  Class 1 Acc  Class 2 Acc  Class 3 Acc  Class 4 Acc\n",
       "0  0.761877     0.979432          0.0     0.376786     0.280374     0.307692"
      ]
     },
     "execution_count": 14,
     "metadata": {},
     "output_type": "execute_result"
    }
   ],
   "source": [
    "perf_df = pd.read_csv(fp.fp_performance_file, index_col=0)\n",
    "perf_df"
   ]
  },
  {
   "cell_type": "code",
   "execution_count": null,
   "metadata": {},
   "outputs": [],
   "source": []
  }
 ],
 "metadata": {
  "kernelspec": {
   "display_name": "main",
   "language": "python",
   "name": "python3"
  },
  "language_info": {
   "codemirror_mode": {
    "name": "ipython",
    "version": 3
   },
   "file_extension": ".py",
   "mimetype": "text/x-python",
   "name": "python",
   "nbconvert_exporter": "python",
   "pygments_lexer": "ipython3",
   "version": "3.10.14"
  }
 },
 "nbformat": 4,
 "nbformat_minor": 2
}
