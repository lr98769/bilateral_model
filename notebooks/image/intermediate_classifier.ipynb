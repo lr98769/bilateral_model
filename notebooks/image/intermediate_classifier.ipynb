{
 "cells": [
  {
   "cell_type": "markdown",
   "metadata": {},
   "source": [
    "# Train IC"
   ]
  },
  {
   "cell_type": "code",
   "execution_count": 4,
   "metadata": {},
   "outputs": [
    {
     "name": "stdout",
     "output_type": "stream",
     "text": [
      "The autoreload extension is already loaded. To reload it, use:\n",
      "  %reload_ext autoreload\n"
     ]
    }
   ],
   "source": [
    "\n",
    "%load_ext autoreload\n",
    "%autoreload 2\n",
    "\n",
    "import sys\n",
    "from os.path import join\n",
    "import joblib\n",
    "import torch\n",
    "import pandas as pd\n",
    "\n",
    "fp_code_folder = \"../../\"\n",
    "fp_project_folder = join(fp_code_folder, \"../\")\n",
    "sys.path.append(fp_code_folder)\n",
    "\n",
    "fp_checkpoint_folder = join(fp_project_folder, \"checkpoints\")\n",
    "\n",
    "from src.models.resnet_bilateral.inference import get_pred_perf_df\n",
    "from src.configs.image_config import fp_data_dfs_file, col_info\n",
    "from src.preprocessing.pytorch_preprocessing import get_pytorch_split_dict, get_ic_image_dl\n",
    "from src.filepath_manager import FilePath\n",
    "\n",
    "from src.pytorch_training.misc import set_seed_pytorch\n",
    "from src.models.resnet_bilateral.ic_trainer import train_resnet_ic\n",
    "from src.models.resnet_bilateral.ic_inference import evaluate_resnet_ic\n",
    "\n",
    "fp = FilePath(model_name=\"resnet_bilateral_ic\", fp_checkpoint_folder=fp_checkpoint_folder)\n",
    "fp_ae_model_file = '../../../checkpoints/models/resnet_bilateral_ae/model.pt'\n",
    "\n",
    "batch_size = 64\n",
    "eval_batch_size = 64*4\n",
    "\n",
    "seed_no = 2024"
   ]
  },
  {
   "cell_type": "markdown",
   "metadata": {},
   "source": [
    "### Load Data"
   ]
  },
  {
   "cell_type": "code",
   "execution_count": 2,
   "metadata": {},
   "outputs": [],
   "source": [
    "data_dfs = joblib.load(fp_data_dfs_file)"
   ]
  },
  {
   "cell_type": "code",
   "execution_count": 3,
   "metadata": {},
   "outputs": [],
   "source": [
    "set_seed_pytorch(seed_no)\n",
    "data_dls = get_pytorch_split_dict(\n",
    "    data_dict=data_dfs, col_info=col_info, \n",
    "    batch_size=batch_size, eval_batch_size=eval_batch_size, shuffle_train=True,\n",
    "    dl_func=get_ic_image_dl\n",
    ")"
   ]
  },
  {
   "cell_type": "markdown",
   "metadata": {},
   "source": [
    "## Train IC"
   ]
  },
  {
   "cell_type": "code",
   "execution_count": 6,
   "metadata": {},
   "outputs": [],
   "source": [
    "resnet_bilateral = torch.load(fp_ae_model_file)"
   ]
  },
  {
   "cell_type": "code",
   "execution_count": null,
   "metadata": {},
   "outputs": [],
   "source": [
    "ae_history = train_resnet_ic(\n",
    "    model=resnet_bilateral, **data_dls, \n",
    "    fp_model=fp.fp_model_file, fp_history=fp.fp_history_file, # Where to store trained model and history of training\n",
    "    max_epochs=500, \n",
    "    lr=0.001, weight_decay=0.0001,  # Training parameters, # Smaller LR?\n",
    "    patience=10, metric_to_monitor = \"bce\", maximise=False, # For early stopping\n",
    "    verbose=True,\n",
    "    seed = seed_no\n",
    ") "
   ]
  },
  {
   "cell_type": "markdown",
   "metadata": {},
   "source": [
    "## Evaluate"
   ]
  },
  {
   "cell_type": "code",
   "execution_count": 4,
   "metadata": {},
   "outputs": [],
   "source": [
    "resnet_bilateral = torch.load(fp.fp_model_file)"
   ]
  },
  {
   "cell_type": "code",
   "execution_count": 5,
   "metadata": {},
   "outputs": [
    {
     "data": {
      "application/vnd.jupyter.widget-view+json": {
       "model_id": "23ad4d5e73be4844a6211c198a384c89",
       "version_major": 2,
       "version_minor": 0
      },
      "text/plain": [
       "  0%|          | 0/28 [00:00<?, ?it/s]"
      ]
     },
     "metadata": {},
     "output_type": "display_data"
    }
   ],
   "source": [
    "pred_df, perf_df = evaluate_resnet_ic(\n",
    "    model=resnet_bilateral, dl=data_dls[\"test_dl\"], col_info=col_info, verbose=True\n",
    ")\n",
    "pred_df.to_csv(fp.fp_prediction_file)\n",
    "perf_df.to_csv(fp.fp_performance_file)"
   ]
  },
  {
   "cell_type": "code",
   "execution_count": 5,
   "metadata": {},
   "outputs": [
    {
     "data": {
      "text/html": [
       "<div>\n",
       "<style scoped>\n",
       "    .dataframe tbody tr th:only-of-type {\n",
       "        vertical-align: middle;\n",
       "    }\n",
       "\n",
       "    .dataframe tbody tr th {\n",
       "        vertical-align: top;\n",
       "    }\n",
       "\n",
       "    .dataframe thead th {\n",
       "        text-align: right;\n",
       "    }\n",
       "</style>\n",
       "<table border=\"1\" class=\"dataframe\">\n",
       "  <thead>\n",
       "    <tr style=\"text-align: right;\">\n",
       "      <th></th>\n",
       "      <th>Acc</th>\n",
       "      <th>Class 0 Acc</th>\n",
       "      <th>Class 1 Acc</th>\n",
       "      <th>Class 2 Acc</th>\n",
       "      <th>Class 3 Acc</th>\n",
       "      <th>Class 4 Acc</th>\n",
       "      <th>Average Class Acc</th>\n",
       "      <th>Acc W/O Class 0</th>\n",
       "    </tr>\n",
       "  </thead>\n",
       "  <tbody>\n",
       "    <tr>\n",
       "      <th>0</th>\n",
       "      <td>0.731068</td>\n",
       "      <td>0.95146</td>\n",
       "      <td>0.037037</td>\n",
       "      <td>0.308929</td>\n",
       "      <td>0.383178</td>\n",
       "      <td>0.012821</td>\n",
       "      <td>0.338685</td>\n",
       "      <td>0.216891</td>\n",
       "    </tr>\n",
       "  </tbody>\n",
       "</table>\n",
       "</div>"
      ],
      "text/plain": [
       "        Acc  Class 0 Acc  Class 1 Acc  Class 2 Acc  Class 3 Acc  Class 4 Acc  \\\n",
       "0  0.731068      0.95146     0.037037     0.308929     0.383178     0.012821   \n",
       "\n",
       "   Average Class Acc  Acc W/O Class 0  \n",
       "0           0.338685         0.216891  "
      ]
     },
     "execution_count": 5,
     "metadata": {},
     "output_type": "execute_result"
    }
   ],
   "source": [
    "pred_df = pd.read_csv(fp.fp_prediction_file, index_col=0)\n",
    "get_pred_perf_df(pred_df, col_info)"
   ]
  },
  {
   "cell_type": "code",
   "execution_count": 8,
   "metadata": {},
   "outputs": [
    {
     "data": {
      "text/html": [
       "<div>\n",
       "<style scoped>\n",
       "    .dataframe tbody tr th:only-of-type {\n",
       "        vertical-align: middle;\n",
       "    }\n",
       "\n",
       "    .dataframe tbody tr th {\n",
       "        vertical-align: top;\n",
       "    }\n",
       "\n",
       "    .dataframe thead th {\n",
       "        text-align: right;\n",
       "    }\n",
       "</style>\n",
       "<table border=\"1\" class=\"dataframe\">\n",
       "  <thead>\n",
       "    <tr style=\"text-align: right;\">\n",
       "      <th></th>\n",
       "      <th>Acc</th>\n",
       "      <th>Class 0 Acc</th>\n",
       "      <th>Class 1 Acc</th>\n",
       "      <th>Class 2 Acc</th>\n",
       "      <th>Class 3 Acc</th>\n",
       "      <th>Class 4 Acc</th>\n",
       "      <th>Average Class Acc</th>\n",
       "    </tr>\n",
       "  </thead>\n",
       "  <tbody>\n",
       "    <tr>\n",
       "      <th>0</th>\n",
       "      <td>0.731068</td>\n",
       "      <td>0.95146</td>\n",
       "      <td>0.037037</td>\n",
       "      <td>0.308929</td>\n",
       "      <td>0.383178</td>\n",
       "      <td>0.012821</td>\n",
       "      <td>0.338685</td>\n",
       "    </tr>\n",
       "  </tbody>\n",
       "</table>\n",
       "</div>"
      ],
      "text/plain": [
       "        Acc  Class 0 Acc  Class 1 Acc  Class 2 Acc  Class 3 Acc  Class 4 Acc  \\\n",
       "0  0.731068      0.95146     0.037037     0.308929     0.383178     0.012821   \n",
       "\n",
       "   Average Class Acc  \n",
       "0           0.338685  "
      ]
     },
     "execution_count": 8,
     "metadata": {},
     "output_type": "execute_result"
    }
   ],
   "source": [
    "perf_df = pd.read_csv(fp.fp_performance_file, index_col=0)\n",
    "perf_df"
   ]
  },
  {
   "cell_type": "code",
   "execution_count": null,
   "metadata": {},
   "outputs": [],
   "source": []
  }
 ],
 "metadata": {
  "kernelspec": {
   "display_name": "main",
   "language": "python",
   "name": "python3"
  },
  "language_info": {
   "codemirror_mode": {
    "name": "ipython",
    "version": 3
   },
   "file_extension": ".py",
   "mimetype": "text/x-python",
   "name": "python",
   "nbconvert_exporter": "python",
   "pygments_lexer": "ipython3",
   "version": "3.10.14"
  }
 },
 "nbformat": 4,
 "nbformat_minor": 2
}
